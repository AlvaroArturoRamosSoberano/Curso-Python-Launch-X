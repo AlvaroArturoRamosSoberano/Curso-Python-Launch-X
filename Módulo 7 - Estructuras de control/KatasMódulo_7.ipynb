{
 "cells": [
  {
   "cell_type": "code",
   "execution_count": 33,
   "metadata": {},
   "outputs": [
    {
     "name": "stdout",
     "output_type": "stream",
     "text": [
      "Este planeta ya ha sido ingresado, por favor intente con otro.\n",
      "Este planeta ya ha sido ingresado, por favor intente con otro.\n",
      "Este planeta ya ha sido ingresado, por favor intente con otro.\n"
     ]
    }
   ],
   "source": [
    "## PROBLEMA 1\n",
    "\n",
    "new_planet = ''\n",
    "planets = []\n",
    "\n",
    "while new_planet.lower() != 'done':\n",
    "    if new_planet in planets:\n",
    "        print('Este planeta ya ha sido ingresado, por favor intente con otro.')\n",
    "        new_planet = input('Try with another planet ')\n",
    "    else:\n",
    "        planets.append(new_planet)\n",
    "    new_planet = input('Enter a new planet ')\n"
   ]
  },
  {
   "cell_type": "code",
   "execution_count": 36,
   "metadata": {},
   "outputs": [
    {
     "name": "stdout",
     "output_type": "stream",
     "text": [
      "Este planeta ya ha sido ingresado, por favor intente con otro.\n",
      "\n",
      "Jupiter\n",
      "Marte\n",
      "Mercurio\n"
     ]
    }
   ],
   "source": [
    "## PROBLEMA 2\n",
    "\n",
    "new_planet = ''\n",
    "planets = []\n",
    "\n",
    "while new_planet.lower() != 'done':\n",
    "    if new_planet in planets:\n",
    "        print('Este planeta ya ha sido ingresado, por favor intente con otro.')\n",
    "        new_planet = input('Try with another planet ')\n",
    "    else:\n",
    "        planets.append(new_planet)\n",
    "    new_planet = input('Enter a new planet ')\n",
    "\n",
    "for planet in planets:\n",
    "    print(planet)"
   ]
  }
 ],
 "metadata": {
  "language_info": {
   "name": "python"
  },
  "orig_nbformat": 4
 },
 "nbformat": 4,
 "nbformat_minor": 2
}
