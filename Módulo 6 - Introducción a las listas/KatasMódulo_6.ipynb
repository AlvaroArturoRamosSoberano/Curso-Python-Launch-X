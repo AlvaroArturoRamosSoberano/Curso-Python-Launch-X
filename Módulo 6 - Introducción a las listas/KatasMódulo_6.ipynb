{
 "cells": [
  {
   "cell_type": "code",
   "execution_count": 5,
   "metadata": {},
   "outputs": [
    {
     "name": "stdout",
     "output_type": "stream",
     "text": [
      "Hay actualmente 8 planetas en el sistema solar\n",
      "Hay actualmente 9 planetas en el sistema solar\n",
      "Pluton es el último planeta\n"
     ]
    }
   ],
   "source": [
    "## PROBLEMA 1 \n",
    "\n",
    "planetas = ['Mercurio', 'Venus', 'Tierra', 'Marte', 'Jupiter', 'Saturno', 'Uranio', 'Neptuno']\n",
    "print('Hay actualmente', len(planetas), 'planetas en el sistema solar')\n",
    "\n",
    "planetas.append('Pluton')\n",
    "numPlanetas = len(planetas)\n",
    "\n",
    "print('Hay actualmente', numPlanetas, 'planetas en el sistema solar')\n",
    "print(planetas[-1], 'es el último planeta')"
   ]
  },
  {
   "cell_type": "code",
   "execution_count": 10,
   "metadata": {},
   "outputs": [
    {
     "name": "stdout",
     "output_type": "stream",
     "text": [
      "Planetas más cerca del sol que Marte\n",
      "['Mercurio', 'Venus', 'Tierra']\n",
      "Planetas más lejos del sol que Marte\n",
      "['Jupiter', 'Saturno', 'Uranio', 'Neptuno']\n"
     ]
    }
   ],
   "source": [
    "## PROBLEMA 2\n",
    "\n",
    "planetas = ['Mercurio', 'Venus', 'Tierra', 'Marte', 'Jupiter', 'Saturno', 'Uranio', 'Neptuno']\n",
    "\n",
    "planeta = input('Por favor ingrese un planeta. Digite la primera letra en mayúscula')\n",
    "\n",
    "planeta_index = planetas.index(planeta)\n",
    "\n",
    "print('Planetas más cerca del sol que ' + planeta)\n",
    "print(planetas[0:planeta_index])\n",
    "\n",
    "print('Planetas más lejos del sol que ' + planeta)\n",
    "print(planetas[planeta_index + 1:])"
   ]
  }
 ],
 "metadata": {
  "interpreter": {
   "hash": "3b03715e5b24e0b614ed771e650febf2fe0bdcb93cf7d78ab0cd90ad818c1ad0"
  },
  "kernelspec": {
   "display_name": "Python 3.10.2 64-bit",
   "language": "python",
   "name": "python3"
  },
  "language_info": {
   "codemirror_mode": {
    "name": "ipython",
    "version": 3
   },
   "file_extension": ".py",
   "mimetype": "text/x-python",
   "name": "python",
   "nbconvert_exporter": "python",
   "pygments_lexer": "ipython3",
   "version": "3.10.2"
  },
  "orig_nbformat": 4
 },
 "nbformat": 4,
 "nbformat_minor": 2
}
