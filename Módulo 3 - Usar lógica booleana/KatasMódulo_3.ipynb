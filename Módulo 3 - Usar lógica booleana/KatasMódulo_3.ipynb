{
 "cells": [
  {
   "cell_type": "markdown",
   "metadata": {},
   "source": [
    "## Ejercicio - Escribir declaraciones if, else, y elif"
   ]
  },
  {
   "cell_type": "code",
   "execution_count": 3,
   "metadata": {},
   "outputs": [
    {
     "name": "stdout",
     "output_type": "stream",
     "text": [
      "¡Alerta!¡Peligro de impacto!\n"
     ]
    }
   ],
   "source": [
    "#PROBLEMA 1\n",
    "\n",
    "velAsteroide = 49\n",
    "if velAsteroide > 25:\n",
    "    print('¡Alerta!¡Peligro de impacto!')\n",
    "else:\n",
    "    print('Dont worry, Keep calm')"
   ]
  },
  {
   "cell_type": "code",
   "execution_count": 1,
   "metadata": {},
   "outputs": [
    {
     "name": "stdout",
     "output_type": "stream",
     "text": [
      "Hoy esta muy despejado\n"
     ]
    }
   ],
   "source": [
    "#PROBLEMA 2\n",
    "\n",
    "velAsteroide = 19\n",
    "if velAsteroide > 20:\n",
    "    print('¡La luz en el cielo nos llama!')\n",
    "elif velAsteroide == 20:\n",
    "    print('¡La luz en el cielo nos llama!')\n",
    "else:\n",
    "    print('Hoy esta muy despejado')"
   ]
  },
  {
   "cell_type": "code",
   "execution_count": 16,
   "metadata": {},
   "outputs": [
    {
     "name": "stdout",
     "output_type": "stream",
     "text": [
      "Entendible, tenga un buen dia\n"
     ]
    }
   ],
   "source": [
    "#PROBLEMA 3\n",
    "\n",
    "velAsteroide = 15\n",
    "tamAsteroide = 15\n",
    "if velAsteroide > 25 and tamAsteroide > 25:\n",
    "    print('¡Alerta, Peligo de impacto')\n",
    "elif velAsteroide >= 20:\n",
    "    print('¡La luz en el cielo nos llama!')\n",
    "elif tamAsteroide < 25:\n",
    "    print('Entendible, tenga un buen dia')\n",
    "else:\n",
    "    print('Entendible, tenga un buen dia')"
   ]
  }
 ],
 "metadata": {
  "interpreter": {
   "hash": "3b03715e5b24e0b614ed771e650febf2fe0bdcb93cf7d78ab0cd90ad818c1ad0"
  },
  "kernelspec": {
   "display_name": "Python 3.10.2 64-bit",
   "language": "python",
   "name": "python3"
  },
  "language_info": {
   "codemirror_mode": {
    "name": "ipython",
    "version": 3
   },
   "file_extension": ".py",
   "mimetype": "text/x-python",
   "name": "python",
   "nbconvert_exporter": "python",
   "pygments_lexer": "ipython3",
   "version": "3.10.2"
  },
  "orig_nbformat": 4
 },
 "nbformat": 4,
 "nbformat_minor": 2
}
