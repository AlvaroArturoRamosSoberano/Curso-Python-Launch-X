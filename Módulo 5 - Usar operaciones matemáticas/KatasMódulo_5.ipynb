{
 "cells": [
  {
   "cell_type": "code",
   "execution_count": 22,
   "metadata": {},
   "outputs": [
    {
     "name": "stdout",
     "output_type": "stream",
     "text": [
      "La distancia en Km entre el Planeta Tierra y Jupiter es: 628949330\n",
      "La distancia en Milla entre el Planeta Tierra y Jupiter es: 390577534\n"
     ]
    }
   ],
   "source": [
    "## PROBLEMA 1\n",
    "\n",
    "distanciaTierra = 149597870\n",
    "distanciaJupiter = 778547200\n",
    "milla = 0.621\n",
    "\n",
    "distanciaKm = (distanciaJupiter - distanciaTierra)\n",
    "distanciaMilla = round(distanciaKm * milla)\n",
    "\n",
    "print ('La distancia en Km entre el Planeta Tierra y Jupiter es: '+ str(distanciaKm))\n",
    "print ('La distancia en Milla entre el Planeta Tierra y Jupiter es: '+ str(distanciaMilla))\n"
   ]
  },
  {
   "cell_type": "code",
   "execution_count": 25,
   "metadata": {},
   "outputs": [
    {
     "name": "stdout",
     "output_type": "stream",
     "text": [
      "Hey explorer! ¿Cuál es la distancia del primer planeta?\n",
      "Distancia ingresada: 57900000\n",
      "Hey explorer! ¿Cuál es la distancia del segundo planeta?\n",
      "Distancia ingresada: 227900000\n",
      "La distancia en Km entre estos dos planetas es: 170000000\n",
      "La distancia en Milla entre estos dos planetas es: 105570000.0\n"
     ]
    }
   ],
   "source": [
    "## PROBLEMA 2\n",
    "\n",
    "print('Hey explorer! ¿Cuál es la distancia del primer planeta?')\n",
    "distanciaPlaneta1 = input(\"Distancia del primer planeta\") \n",
    "print('Distancia ingresada: ' + str(distanciaPlaneta1))\n",
    "\n",
    "print('Hey explorer! ¿Cuál es la distancia del segundo planeta?')\n",
    "distanciaPlaneta2 = input(\"Distancia del segundo planeta\")\n",
    "print('Distancia ingresada: ' + str(distanciaPlaneta2))\n",
    "\n",
    "distanciaPlaneta1 = int(distanciaPlaneta1)\n",
    "distanciaPlaneta2 = int(distanciaPlaneta2)\n",
    "\n",
    "distanciaKm = distanciaPlaneta2 - distanciaPlaneta1\n",
    "print('La distancia en Km entre estos dos planetas es: ' + str(distanciaKm))\n",
    "\n",
    "distanciaMilla = distanciaKm * 0.621\n",
    "print('La distancia en Milla entre estos dos planetas es: ' + str(abs(distanciaMilla)))"
   ]
  }
 ],
 "metadata": {
  "interpreter": {
   "hash": "3b03715e5b24e0b614ed771e650febf2fe0bdcb93cf7d78ab0cd90ad818c1ad0"
  },
  "kernelspec": {
   "display_name": "Python 3.10.2 64-bit",
   "language": "python",
   "name": "python3"
  },
  "language_info": {
   "codemirror_mode": {
    "name": "ipython",
    "version": 3
   },
   "file_extension": ".py",
   "mimetype": "text/x-python",
   "name": "python",
   "nbconvert_exporter": "python",
   "pygments_lexer": "ipython3",
   "version": "3.10.2"
  },
  "orig_nbformat": 4
 },
 "nbformat": 4,
 "nbformat_minor": 2
}
